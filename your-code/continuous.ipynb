{
 "cells": [
  {
   "cell_type": "markdown",
   "metadata": {},
   "source": [
    "# Before your start:\n",
    "\n",
    "    Read the README.md file\n",
    "    Comment as much as you can and use the resources (README.md file)\n",
    "    Happy learning!"
   ]
  },
  {
   "cell_type": "markdown",
   "metadata": {},
   "source": [
    "In this exercise, we  will generate random numbers from the continuous disributions we learned in the lesson. There are two ways to generate random numbers:\n",
    "\n",
    "1. Using the numpy library \n",
    "1. using the Scipy library \n",
    "\n",
    "Use either or both of the lbraries in this exercise."
   ]
  },
  {
   "cell_type": "markdown",
   "metadata": {},
   "source": [
    "## Uniform Distribution\n",
    "\n",
    "To generate uniform random numbers between any two given values using scipy, we can either use the following code or the code that we have\n",
    "discussed in class:"
   ]
  },
  {
   "cell_type": "code",
   "execution_count": 37,
   "metadata": {},
   "outputs": [],
   "source": [
    "import matplotlib.pyplot as plt\n",
    "import numpy as np\n",
    "import scipy.stats\n",
    "import pandas as pd"
   ]
  },
  {
   "cell_type": "code",
   "execution_count": 4,
   "metadata": {},
   "outputs": [
    {
     "name": "stdout",
     "output_type": "stream",
     "text": [
      "[2.85289331 2.33921872 2.71947236 2.1470823  2.90417298 2.7547096\n",
      " 2.74816892 2.5012554  2.09208896 2.77856124]\n"
     ]
    }
   ],
   "source": [
    "from scipy.stats import uniform\n",
    "x = uniform.rvs(size=10)\n",
    "a = 2\n",
    "b = 3\n",
    "randoms  = a + (b-a)*x\n",
    "print(randoms)"
   ]
  },
  {
   "cell_type": "markdown",
   "metadata": {},
   "source": [
    "**Your task:**\n",
    "\n",
    "1. Based on the code above, write a function that generates uniformly distributed random numbers. There are several requirements for your function:\n",
    "    * It should accept 3 parameters: \n",
    "        * `bottom` - the lower boundary of the generated numbers\n",
    "        * `ceiling` - the upper boundary of the generated numbers\n",
    "        * `count` - how many numbers to generate\n",
    "    * It should return an array of uniformly distributed random numbers\n",
    "\n",
    "1. Call your function with 2 sets of params below:\n",
    "    * bottom=10, ceiling=15, count=100\n",
    "    * bottom=10, ceiling=60, count=1,000\n",
    "\n",
    "1. Plot the uniform distributions generated above using histograms, where x axis is the value and y axis is the count. Let the histogram's number of bins be 10.\n",
    "\n",
    "Your output should look like below:\n",
    "\n",
    "![uniform distribution](ud.png)"
   ]
  },
  {
   "cell_type": "code",
   "execution_count": 19,
   "metadata": {},
   "outputs": [],
   "source": [
    "# your code here\n",
    "def unif (count, bottom=10, ceiling=15):\n",
    "    x = uniform.rvs(size=count)\n",
    "    a = bottom\n",
    "    b = ceiling\n",
    "    return a + (b-a)*x\n"
   ]
  },
  {
   "cell_type": "markdown",
   "metadata": {},
   "source": [
    "How are the two distributions different?"
   ]
  },
  {
   "cell_type": "code",
   "execution_count": 30,
   "metadata": {},
   "outputs": [
    {
     "data": {
      "text/plain": [
       "(0, 120)"
      ]
     },
     "execution_count": 30,
     "metadata": {},
     "output_type": "execute_result"
    },
    {
     "data": {
      "image/png": "[encoded data removed]",
      "text/plain": [
       "<Figure size 1440x720 with 2 Axes>"
      ]
     },
     "metadata": {
      "needs_background": "light"
     },
     "output_type": "display_data"
    }
   ],
   "source": [
    "fig, ax = plt.subplots(nrows=1, ncols=2, figsize=(20, 10))\n",
    "\n",
    "ax[0].hist(unif(100,10,15), bins=10)\n",
    "ax[0].set_ylim([0,120])\n",
    "ax[1].hist(unif(1000,10,60), bins=10)\n",
    "ax[1].set_ylim([0,120])"
   ]
  },
  {
   "cell_type": "markdown",
   "metadata": {},
   "source": [
    "## Normal Distribution\n",
    "\n",
    "1. In the same way in the Uniform Distribution challenge, write a function that generates normally distributed random numbers.\n",
    "1. Generate 1,000 normally distributed numbers with the average of 10 and standard deviation of 1\n",
    "1. Generate 1,000 normally distributed numbers with the average of 10 and standard deviation of 50\n",
    "2. Plot the distributions of the data generated.\n",
    "\n",
    "Expected output:\n",
    "\n",
    "![normal distribution](nd.png)"
   ]
  },
  {
   "cell_type": "code",
   "execution_count": 36,
   "metadata": {},
   "outputs": [
    {
     "data": {
      "text/plain": [
       "(0, 45)"
      ]
     },
     "execution_count": 36,
     "metadata": {},
     "output_type": "execute_result"
    },
    {
     "data": {
      "image/png": "[encoded data removed]",
      "text/plain": [
       "<Figure size 1440x720 with 2 Axes>"
      ]
     },
     "metadata": {
      "needs_background": "light"
     },
     "output_type": "display_data"
    }
   ],
   "source": [
    "# your code here\n",
    "def gaussi (count, mu=10, sigma=1):\n",
    "    return np.random.normal(mu, sigma, size=count)\n",
    "\n",
    "fig, ax = plt.subplots(nrows=1, ncols=2, figsize=(20, 10))\n",
    "\n",
    "ax[0].hist(gaussi(1000), bins=100)\n",
    "ax[0].set_ylim([0,45])\n",
    "ax[1].hist(gaussi(1000,10,50), bins=100)\n",
    "ax[1].set_ylim([0,45])"
   ]
  },
  {
   "cell_type": "markdown",
   "metadata": {},
   "source": [
    "How are the two distributions different?"
   ]
  },
  {
   "cell_type": "code",
   "execution_count": null,
   "metadata": {},
   "outputs": [],
   "source": [
    "# your answer here:\n",
    "# sigma defines how large the distribution is"
   ]
  },
  {
   "cell_type": "markdown",
   "metadata": {},
   "source": [
    "## Normal Distribution of Real Data\n",
    "\n",
    "In this challenge we are going to take a look the real data. We will use vehicles.csv file for this exercise"
   ]
  },
  {
   "cell_type": "markdown",
   "metadata": {},
   "source": [
    "First import vehicles.csv.\n",
    "Then plot the histograms for the following variables:\n",
    "\n",
    "1. Fuel Barrels/Year"
   ]
  },
  {
   "cell_type": "code",
   "execution_count": 40,
   "metadata": {},
   "outputs": [
    {
     "data": {
      "text/html": [
       "<div>\n",
       "<style scoped>\n",
       "    .dataframe tbody tr th:only-of-type {\n",
       "        vertical-align: middle;\n",
       "    }\n",
       "\n",
       "    .dataframe tbody tr th {\n",
       "        vertical-align: top;\n",
       "    }\n",
       "\n",
       "    .dataframe thead th {\n",
       "        text-align: right;\n",
       "    }\n",
       "</style>\n",
       "<table border=\"1\" class=\"dataframe\">\n",
       "  <thead>\n",
       "    <tr style=\"text-align: right;\">\n",
       "      <th></th>\n",
       "      <th>Make</th>\n",
       "      <th>Model</th>\n",
       "      <th>Year</th>\n",
       "      <th>Engine Displacement</th>\n",
       "      <th>Cylinders</th>\n",
       "      <th>Transmission</th>\n",
       "      <th>Drivetrain</th>\n",
       "      <th>Vehicle Class</th>\n",
       "      <th>Fuel Type</th>\n",
       "      <th>Fuel Barrels/Year</th>\n",
       "      <th>City MPG</th>\n",
       "      <th>Highway MPG</th>\n",
       "      <th>Combined MPG</th>\n",
       "      <th>CO2 Emission Grams/Mile</th>\n",
       "      <th>Fuel Cost/Year</th>\n",
       "    </tr>\n",
       "  </thead>\n",
       "  <tbody>\n",
       "    <tr>\n",
       "      <td>0</td>\n",
       "      <td>AM General</td>\n",
       "      <td>DJ Po Vehicle 2WD</td>\n",
       "      <td>1984</td>\n",
       "      <td>2.5</td>\n",
       "      <td>4.0</td>\n",
       "      <td>Automatic 3-spd</td>\n",
       "      <td>2-Wheel Drive</td>\n",
       "      <td>Special Purpose Vehicle 2WD</td>\n",
       "      <td>Regular</td>\n",
       "      <td>19.388824</td>\n",
       "      <td>18</td>\n",
       "      <td>17</td>\n",
       "      <td>17</td>\n",
       "      <td>522.764706</td>\n",
       "      <td>1950</td>\n",
       "    </tr>\n",
       "    <tr>\n",
       "      <td>1</td>\n",
       "      <td>AM General</td>\n",
       "      <td>FJ8c Post Office</td>\n",
       "      <td>1984</td>\n",
       "      <td>4.2</td>\n",
       "      <td>6.0</td>\n",
       "      <td>Automatic 3-spd</td>\n",
       "      <td>2-Wheel Drive</td>\n",
       "      <td>Special Purpose Vehicle 2WD</td>\n",
       "      <td>Regular</td>\n",
       "      <td>25.354615</td>\n",
       "      <td>13</td>\n",
       "      <td>13</td>\n",
       "      <td>13</td>\n",
       "      <td>683.615385</td>\n",
       "      <td>2550</td>\n",
       "    </tr>\n",
       "    <tr>\n",
       "      <td>2</td>\n",
       "      <td>AM General</td>\n",
       "      <td>Post Office DJ5 2WD</td>\n",
       "      <td>1985</td>\n",
       "      <td>2.5</td>\n",
       "      <td>4.0</td>\n",
       "      <td>Automatic 3-spd</td>\n",
       "      <td>Rear-Wheel Drive</td>\n",
       "      <td>Special Purpose Vehicle 2WD</td>\n",
       "      <td>Regular</td>\n",
       "      <td>20.600625</td>\n",
       "      <td>16</td>\n",
       "      <td>17</td>\n",
       "      <td>16</td>\n",
       "      <td>555.437500</td>\n",
       "      <td>2100</td>\n",
       "    </tr>\n",
       "  </tbody>\n",
       "</table>\n",
       "</div>"
      ],
      "text/plain": [
       "         Make                Model  Year  Engine Displacement  Cylinders  \\\n",
       "0  AM General    DJ Po Vehicle 2WD  1984                  2.5        4.0   \n",
       "1  AM General     FJ8c Post Office  1984                  4.2        6.0   \n",
       "2  AM General  Post Office DJ5 2WD  1985                  2.5        4.0   \n",
       "\n",
       "      Transmission        Drivetrain                Vehicle Class Fuel Type  \\\n",
       "0  Automatic 3-spd     2-Wheel Drive  Special Purpose Vehicle 2WD   Regular   \n",
       "1  Automatic 3-spd     2-Wheel Drive  Special Purpose Vehicle 2WD   Regular   \n",
       "2  Automatic 3-spd  Rear-Wheel Drive  Special Purpose Vehicle 2WD   Regular   \n",
       "\n",
       "   Fuel Barrels/Year  City MPG  Highway MPG  Combined MPG  \\\n",
       "0          19.388824        18           17            17   \n",
       "1          25.354615        13           13            13   \n",
       "2          20.600625        16           17            16   \n",
       "\n",
       "   CO2 Emission Grams/Mile  Fuel Cost/Year  \n",
       "0               522.764706            1950  \n",
       "1               683.615385            2550  \n",
       "2               555.437500            2100  "
      ]
     },
     "execution_count": 40,
     "metadata": {},
     "output_type": "execute_result"
    }
   ],
   "source": [
    "# your code here\n",
    "cars = pd.read_csv(\"vehicles.csv\")\n",
    "cars.head(3)"
   ]
  },
  {
   "cell_type": "code",
   "execution_count": 45,
   "metadata": {},
   "outputs": [
    {
     "data": {
      "text/plain": [
       "(array([6.5000e+01, 1.6000e+01, 5.4000e+01, 3.2000e+02, 2.2040e+03,\n",
       "        4.5610e+03, 1.0248e+04, 6.7910e+03, 4.6130e+03, 4.3530e+03,\n",
       "        1.3610e+03, 7.3500e+02, 4.3900e+02, 1.3000e+02, 0.0000e+00,\n",
       "        3.6000e+01, 0.0000e+00, 2.1000e+01, 0.0000e+00, 5.0000e+00]),\n",
       " array([ 0.06      ,  2.41135714,  4.76271429,  7.11407143,  9.46542857,\n",
       "        11.81678571, 14.16814286, 16.5195    , 18.87085714, 21.22221429,\n",
       "        23.57357143, 25.92492857, 28.27628571, 30.62764286, 32.979     ,\n",
       "        35.33035714, 37.68171429, 40.03307143, 42.38442857, 44.73578571,\n",
       "        47.08714286]),\n",
       " <a list of 20 Patch objects>)"
      ]
     },
     "execution_count": 45,
     "metadata": {},
     "output_type": "execute_result"
    },
    {
     "data": {
      "image/png": "[encoded data removed]",
      "text/plain": [
       "<Figure size 432x288 with 1 Axes>"
      ]
     },
     "metadata": {
      "needs_background": "light"
     },
     "output_type": "display_data"
    }
   ],
   "source": [
    "plt.hist(cars[\"Fuel Barrels/Year\"], bins = 20)"
   ]
  },
  {
   "cell_type": "markdown",
   "metadata": {},
   "source": [
    "2. CO2 Emission Grams/Mile "
   ]
  },
  {
   "cell_type": "code",
   "execution_count": 46,
   "metadata": {},
   "outputs": [
    {
     "data": {
      "text/plain": [
       "(array([1.300e+01, 2.100e+01, 1.490e+02, 6.830e+02, 3.422e+03, 6.783e+03,\n",
       "        9.421e+03, 5.990e+03, 2.530e+03, 4.295e+03, 1.276e+03, 7.340e+02,\n",
       "        4.430e+02, 1.300e+02, 0.000e+00, 3.600e+01, 0.000e+00, 2.100e+01,\n",
       "        0.000e+00, 5.000e+00]),\n",
       " array([  37.        ,   98.62857143,  160.25714286,  221.88571429,\n",
       "         283.51428571,  345.14285714,  406.77142857,  468.4       ,\n",
       "         530.02857143,  591.65714286,  653.28571429,  714.91428571,\n",
       "         776.54285714,  838.17142857,  899.8       ,  961.42857143,\n",
       "        1023.05714286, 1084.68571429, 1146.31428571, 1207.94285714,\n",
       "        1269.57142857]),\n",
       " <a list of 20 Patch objects>)"
      ]
     },
     "execution_count": 46,
     "metadata": {},
     "output_type": "execute_result"
    },
    {
     "data": {
      "image/png": "[encoded data removed]",
      "text/plain": [
       "<Figure size 432x288 with 1 Axes>"
      ]
     },
     "metadata": {
      "needs_background": "light"
     },
     "output_type": "display_data"
    }
   ],
   "source": [
    "# your code here\n",
    "plt.hist(cars[\"CO2 Emission Grams/Mile\"], bins = 20)"
   ]
  },
  {
   "cell_type": "markdown",
   "metadata": {},
   "source": [
    "3. Combined MPG"
   ]
  },
  {
   "cell_type": "code",
   "execution_count": 47,
   "metadata": {},
   "outputs": [
    {
     "data": {
      "text/plain": [
       "(array([6.600e+01, 5.720e+02, 3.943e+03, 4.556e+03, 9.261e+03, 6.251e+03,\n",
       "        5.587e+03, 2.345e+03, 1.784e+03, 6.320e+02, 3.450e+02, 2.910e+02,\n",
       "        8.400e+01, 1.260e+02, 4.400e+01, 2.100e+01, 1.800e+01, 1.500e+01,\n",
       "        9.000e+00, 2.000e+00]),\n",
       " array([ 7.  ,  9.45, 11.9 , 14.35, 16.8 , 19.25, 21.7 , 24.15, 26.6 ,\n",
       "        29.05, 31.5 , 33.95, 36.4 , 38.85, 41.3 , 43.75, 46.2 , 48.65,\n",
       "        51.1 , 53.55, 56.  ]),\n",
       " <a list of 20 Patch objects>)"
      ]
     },
     "execution_count": 47,
     "metadata": {},
     "output_type": "execute_result"
    },
    {
     "data": {
      "image/png": "[encoded data removed]",
      "text/plain": [
       "<Figure size 432x288 with 1 Axes>"
      ]
     },
     "metadata": {
      "needs_background": "light"
     },
     "output_type": "display_data"
    }
   ],
   "source": [
    "# your code here\n",
    "plt.hist(cars[\"Combined MPG\"], bins = 20)"
   ]
  },
  {
   "cell_type": "markdown",
   "metadata": {},
   "source": [
    "Which one(s) of the variables are nearly normally distributed? How do you know?"
   ]
  },
  {
   "cell_type": "code",
   "execution_count": null,
   "metadata": {},
   "outputs": [],
   "source": [
    "# you answer here:\n",
    "# They all have some tendency to be normally distributed. "
   ]
  },
  {
   "cell_type": "markdown",
   "metadata": {},
   "source": [
    "## Exponential Distribution"
   ]
  },
  {
   "cell_type": "markdown",
   "metadata": {},
   "source": [
    "1. Using `numpy.random.exponential`, create a function that returns a list of numbers exponentially distributed with the mean of 10. \n",
    "\n",
    "1. Use the function to generate two number sequences with the size of 1 and 100.\n",
    "\n",
    "1. Plot the distributions as histograms with the nubmer of bins as 100.\n",
    "\n",
    "Your output should look like below:\n",
    "\n",
    "![exponential distribution](ed.png)"
   ]
  },
  {
   "cell_type": "code",
   "execution_count": 49,
   "metadata": {},
   "outputs": [
    {
     "data": {
      "text/plain": [
       "(array([0., 0., 0., 0., 0., 0., 0., 0., 0., 0., 0., 0., 0., 0., 0., 0., 0.,\n",
       "        0., 0., 0., 0., 0., 0., 0., 0., 0., 0., 0., 0., 0., 0., 0., 0., 0.,\n",
       "        0., 0., 0., 0., 0., 0., 0., 0., 0., 0., 0., 0., 0., 0., 0., 0., 1.,\n",
       "        0., 0., 0., 0., 0., 0., 0., 0., 0., 0., 0., 0., 0., 0., 0., 0., 0.,\n",
       "        0., 0., 0., 0., 0., 0., 0., 0., 0., 0., 0., 0., 0., 0., 0., 0., 0.,\n",
       "        0., 0., 0., 0., 0., 0., 0., 0., 0., 0., 0., 0., 0., 0., 0.]),\n",
       " array([13.38241978, 13.39241978, 13.40241978, 13.41241978, 13.42241978,\n",
       "        13.43241978, 13.44241978, 13.45241978, 13.46241978, 13.47241978,\n",
       "        13.48241978, 13.49241978, 13.50241978, 13.51241978, 13.52241978,\n",
       "        13.53241978, 13.54241978, 13.55241978, 13.56241978, 13.57241978,\n",
       "        13.58241978, 13.59241978, 13.60241978, 13.61241978, 13.62241978,\n",
       "        13.63241978, 13.64241978, 13.65241978, 13.66241978, 13.67241978,\n",
       "        13.68241978, 13.69241978, 13.70241978, 13.71241978, 13.72241978,\n",
       "        13.73241978, 13.74241978, 13.75241978, 13.76241978, 13.77241978,\n",
       "        13.78241978, 13.79241978, 13.80241978, 13.81241978, 13.82241978,\n",
       "        13.83241978, 13.84241978, 13.85241978, 13.86241978, 13.87241978,\n",
       "        13.88241978, 13.89241978, 13.90241978, 13.91241978, 13.92241978,\n",
       "        13.93241978, 13.94241978, 13.95241978, 13.96241978, 13.97241978,\n",
       "        13.98241978, 13.99241978, 14.00241978, 14.01241978, 14.02241978,\n",
       "        14.03241978, 14.04241978, 14.05241978, 14.06241978, 14.07241978,\n",
       "        14.08241978, 14.09241978, 14.10241978, 14.11241978, 14.12241978,\n",
       "        14.13241978, 14.14241978, 14.15241978, 14.16241978, 14.17241978,\n",
       "        14.18241978, 14.19241978, 14.20241978, 14.21241978, 14.22241978,\n",
       "        14.23241978, 14.24241978, 14.25241978, 14.26241978, 14.27241978,\n",
       "        14.28241978, 14.29241978, 14.30241978, 14.31241978, 14.32241978,\n",
       "        14.33241978, 14.34241978, 14.35241978, 14.36241978, 14.37241978,\n",
       "        14.38241978]),\n",
       " <a list of 100 Patch objects>)"
      ]
     },
     "execution_count": 49,
     "metadata": {},
     "output_type": "execute_result"
    },
    {
     "data": {
      "image/png": "[encoded data removed]",
      "text/plain": [
       "<Figure size 432x288 with 1 Axes>"
      ]
     },
     "metadata": {
      "needs_background": "light"
     },
     "output_type": "display_data"
    }
   ],
   "source": [
    "# your code here\n",
    "def expy (mean=10, size = 1):\n",
    "    return np.random.exponential(mean, size)\n",
    "\n",
    "plt.hist(expy(), bins = 100)"
   ]
  },
  {
   "cell_type": "markdown",
   "metadata": {},
   "source": [
    "How are the two distributions different?"
   ]
  },
  {
   "cell_type": "code",
   "execution_count": 51,
   "metadata": {},
   "outputs": [
    {
     "data": {
      "text/plain": [
       "(array([8., 4., 5., 4., 2., 3., 1., 6., 5., 2., 2., 5., 3., 4., 2., 3., 2.,\n",
       "        0., 3., 3., 2., 3., 0., 3., 2., 1., 1., 2., 0., 1., 1., 1., 0., 0.,\n",
       "        1., 1., 0., 1., 1., 0., 0., 1., 1., 1., 1., 0., 0., 0., 0., 1., 0.,\n",
       "        1., 0., 1., 0., 0., 0., 0., 0., 0., 0., 0., 0., 0., 0., 2., 0., 0.,\n",
       "        0., 0., 0., 0., 1., 0., 0., 0., 0., 0., 0., 0., 0., 0., 0., 0., 0.,\n",
       "        0., 0., 1., 0., 0., 0., 0., 0., 0., 0., 0., 0., 0., 0., 1.]),\n",
       " array([3.23558762e-02, 5.56907075e-01, 1.08145827e+00, 1.60600947e+00,\n",
       "        2.13056067e+00, 2.65511187e+00, 3.17966307e+00, 3.70421427e+00,\n",
       "        4.22876547e+00, 4.75331666e+00, 5.27786786e+00, 5.80241906e+00,\n",
       "        6.32697026e+00, 6.85152146e+00, 7.37607266e+00, 7.90062386e+00,\n",
       "        8.42517506e+00, 8.94972625e+00, 9.47427745e+00, 9.99882865e+00,\n",
       "        1.05233799e+01, 1.10479310e+01, 1.15724822e+01, 1.20970334e+01,\n",
       "        1.26215846e+01, 1.31461358e+01, 1.36706870e+01, 1.41952382e+01,\n",
       "        1.47197894e+01, 1.52443406e+01, 1.57688918e+01, 1.62934430e+01,\n",
       "        1.68179942e+01, 1.73425454e+01, 1.78670966e+01, 1.83916478e+01,\n",
       "        1.89161990e+01, 1.94407502e+01, 1.99653014e+01, 2.04898526e+01,\n",
       "        2.10144038e+01, 2.15389550e+01, 2.20635062e+01, 2.25880574e+01,\n",
       "        2.31126086e+01, 2.36371598e+01, 2.41617110e+01, 2.46862622e+01,\n",
       "        2.52108134e+01, 2.57353646e+01, 2.62599158e+01, 2.67844670e+01,\n",
       "        2.73090182e+01, 2.78335694e+01, 2.83581206e+01, 2.88826718e+01,\n",
       "        2.94072230e+01, 2.99317742e+01, 3.04563254e+01, 3.09808766e+01,\n",
       "        3.15054278e+01, 3.20299790e+01, 3.25545302e+01, 3.30790814e+01,\n",
       "        3.36036326e+01, 3.41281838e+01, 3.46527350e+01, 3.51772862e+01,\n",
       "        3.57018374e+01, 3.62263886e+01, 3.67509398e+01, 3.72754910e+01,\n",
       "        3.78000422e+01, 3.83245934e+01, 3.88491446e+01, 3.93736958e+01,\n",
       "        3.98982470e+01, 4.04227982e+01, 4.09473494e+01, 4.14719006e+01,\n",
       "        4.19964518e+01, 4.25210030e+01, 4.30455542e+01, 4.35701054e+01,\n",
       "        4.40946566e+01, 4.46192078e+01, 4.51437590e+01, 4.56683102e+01,\n",
       "        4.61928614e+01, 4.67174126e+01, 4.72419638e+01, 4.77665150e+01,\n",
       "        4.82910662e+01, 4.88156174e+01, 4.93401686e+01, 4.98647198e+01,\n",
       "        5.03892710e+01, 5.09138222e+01, 5.14383734e+01, 5.19629246e+01,\n",
       "        5.24874757e+01]),\n",
       " <a list of 100 Patch objects>)"
      ]
     },
     "execution_count": 51,
     "metadata": {},
     "output_type": "execute_result"
    },
    {
     "data": {
      "image/png": "[encoded data removed]",
      "text/plain": [
       "<Figure size 432x288 with 1 Axes>"
      ]
     },
     "metadata": {
      "needs_background": "light"
     },
     "output_type": "display_data"
    }
   ],
   "source": [
    "# your answer here:\n",
    "plt.hist(expy(10,100), bins = 100)"
   ]
  },
  {
   "cell_type": "markdown",
   "metadata": {},
   "source": [
    "## Exponential Distribution of Real Data\n",
    "\n",
    "Suppose that the amount of time one spends in a bank is exponentially distributed with mean as 10 minutes (i.e. λ = 1/10). What is the probability that a customer will spend less than fifteen minutes in the bank? \n",
    "\n",
    "Write a code in python to solve this problem"
   ]
  },
  {
   "cell_type": "code",
   "execution_count": 7,
   "metadata": {},
   "outputs": [
    {
     "name": "stdout",
     "output_type": "stream",
     "text": [
      "11.0\n",
      "0.006737946999085467\n",
      "0.9932620530009145\n",
      "0.006737946999085467\n"
     ]
    }
   ],
   "source": [
    "# your answer here\n",
    "# Hint: This is same as saying P(x<15)\n",
    "\n",
    "from scipy.stats import expon\n",
    "exp = expon(10) # mean = 10, \n",
    "print(exp.mean())\n",
    "print(exp.pdf(15)) # 15 min or more\n",
    "print(exp.cdf(15)) # less than 15 minutes\n",
    "print(exp.sf(15))\n"
   ]
  },
  {
   "cell_type": "code",
   "execution_count": 11,
   "metadata": {},
   "outputs": [
    {
     "data": {
      "text/plain": [
       "[<matplotlib.lines.Line2D at 0x7f58e5bb8e10>]"
      ]
     },
     "execution_count": 11,
     "metadata": {},
     "output_type": "execute_result"
    },
    {
     "data": {
      "image/png": "[encoded data removed]",
      "text/plain": [
       "<Figure size 432x288 with 1 Axes>"
      ]
     },
     "metadata": {
      "needs_background": "light"
     },
     "output_type": "display_data"
    }
   ],
   "source": [
    "# \n",
    "x = np.linspace(0,20,100)\n",
    "y = expon.cdf(x)\n",
    "\n",
    "fig, ax = plt.subplots(1, 1)\n",
    "ax.plot(x,y)"
   ]
  },
  {
   "cell_type": "markdown",
   "metadata": {},
   "source": [
    "What is the probability that the customer will spend more than 15 minutes"
   ]
  },
  {
   "cell_type": "code",
   "execution_count": 12,
   "metadata": {},
   "outputs": [
    {
     "name": "stdout",
     "output_type": "stream",
     "text": [
      "0.006737946999085467\n"
     ]
    }
   ],
   "source": [
    "# your answer here\n",
    "print(exp.sf(15))"
   ]
  },
  {
   "cell_type": "code",
   "execution_count": null,
   "metadata": {},
   "outputs": [],
   "source": []
  }
 ],
 "metadata": {
  "kernelspec": {
   "display_name": "Python 3",
   "language": "python",
   "name": "python3"
  },
  "language_info": {
   "codemirror_mode": {
    "name": "ipython",
    "version": 3
   },
   "file_extension": ".py",
   "mimetype": "text/x-python",
   "name": "python",
   "nbconvert_exporter": "python",
   "pygments_lexer": "ipython3",
   "version": "3.6.8"
  }
 },
 "nbformat": 4,
 "nbformat_minor": 2
}
